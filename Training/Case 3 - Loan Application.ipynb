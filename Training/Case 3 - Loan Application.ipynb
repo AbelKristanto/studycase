{
  "nbformat": 4,
  "nbformat_minor": 0,
  "metadata": {
    "colab": {
      "provenance": [],
      "toc_visible": true
    },
    "kernelspec": {
      "name": "python3",
      "display_name": "Python 3"
    },
    "language_info": {
      "name": "python"
    }
  },
  "cells": [
    {
      "cell_type": "markdown",
      "source": [
        "# **Study Case - Analysis in loan application**\n",
        "\n",
        "Disini kamu akan mendapatkan sebuah data pengajuan aplikasi pinjaman dari dataset yang dibagikan oleh salah satu perbankan terbesar di Negeri ini.\n",
        "\n",
        "Task.\n",
        "1. Silahkan **import dataset** kedalam environment pandas dan **tampilkan summary informasi**\n",
        "2. Lakukan **grouping jenis pekerjaan menjadi 4 (Professional, Entrepreneur, Services, Other)** dimana Professional - admin, technician, blue-collar; Entrepreneur - management, entrepreneur, self-employed; Other\n",
        "3. Simpulkan korelasi antara **pinjaman (loan) dengan usia (age)**\n",
        "4. Simpulkan kembali korelasi antara **status (marital) dengan pinjaman (loan)**\n",
        "5. Cari tahu dan temukan **variabel apa saja yang berkorelasi positif dan negatif terhadap loan**\n",
        "6. Buatlah visualisasi informasi **jumlah pengajuan loan berdasarkan pekerjaan, pendidikan dan kepemilikan rumah, media komunikasi (contact)**\n",
        "7. Silahkan **ubah data yang masih object menjadi semua numerical data**\n",
        "8. Silahkan bersihkan **outlier yang ada di data, dan langkah apa yang akan kamu pilih?** Mana yang kamu abaikan, mana yang akan kamu imputasi.\n",
        "9. Tampilkan **informasi data yang sudah melewati tahap 1-8 seperti nomor 1**\n",
        "10. Export data dengan nama **\"bank_clean.csv\"**\n",
        "\n",
        "Jika kamu sudah selesai, silahkan submit di [link](https://bit.ly/ChallengeClass) yang sudah disampaikan. Terimakasih, selamat mencoba.\n",
        "\n",
        "Note.\n",
        "Silahkan gunakan data berdasarkan filepath berikut ini.\n",
        "```\n",
        "!git clone https://github.com/AbelKristanto/datasets.git\n",
        "filepath = \"/content/datasets/banks/bank.csv\"\n",
        "```"
      ],
      "metadata": {
        "id": "4VhpybE0Yp4L"
      }
    },
    {
      "cell_type": "code",
      "source": [],
      "metadata": {
        "id": "27DeiHVEyuPB"
      },
      "execution_count": null,
      "outputs": []
    }
  ]
}